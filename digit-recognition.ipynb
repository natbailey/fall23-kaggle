{
 "cells": [
  {
   "cell_type": "markdown",
   "metadata": {},
   "source": [
    "# This is the digit recognition kaggle project!!!"
   ]
  },
  {
   "cell_type": "code",
   "execution_count": 102,
   "metadata": {},
   "outputs": [
    {
     "name": "stdout",
     "output_type": "stream",
     "text": [
      "Digit recognition\n"
     ]
    }
   ],
   "source": [
    "print(\"Digit recognition\")\n",
    "\n",
    "import tensorflow as tf\n",
    "import tensorflow.keras as keras\n",
    "# import tensorflow.nlp as nlp\n",
    "import numpy as np\n",
    "from tensorflow.keras import Sequential\n",
    "from tensorflow.keras.layers import Dense, Dropout\n",
    "from tensorflow.keras.optimizers import SGD, Adam\n",
    "from tensorflow.keras.datasets import mnist\n",
    "from tensorflow.keras.utils import to_categorical\n",
    "from tensorflow.keras.models import Sequential\n",
    "from tensorflow.keras.layers import Conv2D\n",
    "from tensorflow.keras.layers import MaxPooling2D\n",
    "# from tensorflow.nlp.layers import FourierTransformLayer\n",
    "from tensorflow.keras.layers import Dense\n",
    "from tensorflow.keras.layers import Flatten\n",
    "from tensorflow.keras.optimizers import SGD\n",
    "\n",
    "import pandas as pd\n",
    "import sklearn\n",
    "import csv\n",
    "import matplotlib.pyplot as plt\n",
    "from sklearn.model_selection import KFold\n",
    "plt.style.use(\"ggplot\")\n",
    "np.random.seed(0)\n",
    "tf.random.set_seed(0)\n"
   ]
  },
  {
   "cell_type": "code",
   "execution_count": 5,
   "metadata": {},
   "outputs": [],
   "source": [
    "train = pd.read_csv('./train.csv')\n",
    "test = pd.read_csv('./test.csv')"
   ]
  },
  {
   "cell_type": "code",
   "execution_count": 6,
   "metadata": {},
   "outputs": [],
   "source": [
    "train_X = train.drop('label', axis=1).astype('float32') / 255.0\n",
    "train_y = train['label']\n",
    "\n",
    "test_x = test.astype('float32') / 255.0"
   ]
  },
  {
   "cell_type": "code",
   "execution_count": 53,
   "metadata": {},
   "outputs": [],
   "source": [
    "test_x_np = test_x.to_numpy()\n",
    "test_x_np = test_x_np.reshape(test_x_np.shape[0], 28, 28, 1)"
   ]
  },
  {
   "cell_type": "code",
   "execution_count": 7,
   "metadata": {},
   "outputs": [
    {
     "name": "stdout",
     "output_type": "stream",
     "text": [
      "[[0. 1. 0. ... 0. 0. 0.]\n",
      " [1. 0. 0. ... 0. 0. 0.]\n",
      " [0. 1. 0. ... 0. 0. 0.]\n",
      " ...\n",
      " [0. 0. 0. ... 1. 0. 0.]\n",
      " [0. 0. 0. ... 0. 0. 0.]\n",
      " [0. 0. 0. ... 0. 0. 1.]]\n"
     ]
    }
   ],
   "source": [
    "train_X_np = train_X.to_numpy()\n",
    "train_X_np = train_X_np.reshape(train_X_np.shape[0], 28, 28, 1)\n",
    "\n",
    "train_y_np = train_y.to_numpy()\n",
    "\n",
    "# print(train_X_np.shape)\n",
    "train_y_np = to_categorical(train_y_np)\n",
    "print(train_y_np)\n",
    "# print(train_X.shape)"
   ]
  },
  {
   "cell_type": "code",
   "execution_count": 43,
   "metadata": {},
   "outputs": [
    {
     "name": "stderr",
     "output_type": "stream",
     "text": [
      "WARNING:absl:At this time, the v2.11+ optimizer `tf.keras.optimizers.SGD` runs slowly on M1/M2 Macs, please use the legacy Keras optimizer instead, located at `tf.keras.optimizers.legacy.SGD`.\n",
      "WARNING:absl:There is a known slowdown when using v2.11+ Keras optimizers on M1/M2 Macs. Falling back to the legacy Keras optimizer, i.e., `tf.keras.optimizers.legacy.SGD`.\n"
     ]
    }
   ],
   "source": [
    "opt = SGD(learning_rate=0.001, momentum=0.9)\n",
    "\n",
    "model4 = Sequential()\n",
    "model4.add(Conv2D(32, (3, 3), activation='relu', kernel_initializer='he_uniform', input_shape=(28, 28, 1)))\n",
    "model4.add(MaxPooling2D((2, 2)))\n",
    "model4.add(Flatten())\n",
    "model4.add(Dense(100, activation='relu', kernel_initializer='he_uniform'))\n",
    "model4.add(Dropout(0.01))\n",
    "model4.add(Dense(1000, activation='relu', kernel_initializer='he_uniform'))\n",
    "model4.add(Dense(1000, activation='relu', kernel_initializer='he_uniform'))\n",
    "model4.add(Dropout(0.03))\n",
    "model4.add(Dense(1000, activation='relu', kernel_initializer='he_uniform'))\n",
    "model4.add(Dropout(0.03))\n",
    "model4.add(Dense(10000, activation='relu', kernel_initializer='he_uniform'))\n",
    "model4.add(Dropout(0.2))\n",
    "model4.add(Dense(10000, activation='relu', kernel_initializer='he_uniform'))\n",
    "model4.add(Dropout(0.07))\n",
    "model4.add(Dense(10000, activation='relu', kernel_initializer='he_uniform'))\n",
    "model4.add(Dropout(0.05))\n",
    "model4.add(Dense(10000, activation='relu', kernel_initializer='he_uniform'))\n",
    "model4.add(Dropout(0.06))\n",
    "# model4.add(Conv2D(100, (3, 3), activation='relu', kernel_initializer='he_uniform'))\n",
    "model4.add(Dense(100, activation='relu', kernel_initializer='he_uniform'))\n",
    "model4.add(Dense(10, activation='softmax'))\n",
    "model4.compile(optimizer=opt, loss='categorical_crossentropy', metrics=['accuracy'])\n",
    "\n"
   ]
  },
  {
   "cell_type": "code",
   "execution_count": 46,
   "metadata": {},
   "outputs": [
    {
     "name": "stdout",
     "output_type": "stream",
     "text": [
      "Epoch 1/20\n",
      "1313/1313 [==============================] - 800s 609ms/step - loss: 0.0786 - accuracy: 0.9755\n",
      "Epoch 2/20\n",
      "1313/1313 [==============================] - 808s 615ms/step - loss: 0.0599 - accuracy: 0.9808\n",
      "Epoch 3/20\n",
      "1313/1313 [==============================] - 801s 610ms/step - loss: 0.0457 - accuracy: 0.9853\n",
      "Epoch 4/20\n",
      "1313/1313 [==============================] - 804s 612ms/step - loss: 0.0358 - accuracy: 0.9886\n",
      "Epoch 5/20\n",
      "1313/1313 [==============================] - 802s 611ms/step - loss: 0.0267 - accuracy: 0.9910\n",
      "Epoch 6/20\n",
      "1313/1313 [==============================] - 788s 600ms/step - loss: 0.0201 - accuracy: 0.9935\n",
      "Epoch 7/20\n",
      "1313/1313 [==============================] - 762s 580ms/step - loss: 0.0190 - accuracy: 0.9934\n",
      "Epoch 8/20\n",
      "1313/1313 [==============================] - 759s 578ms/step - loss: 0.0149 - accuracy: 0.9950\n",
      "Epoch 9/20\n",
      "1313/1313 [==============================] - 757s 577ms/step - loss: 0.0102 - accuracy: 0.9969\n",
      "Epoch 10/20\n",
      "1313/1313 [==============================] - 753s 574ms/step - loss: 0.0108 - accuracy: 0.9968\n",
      "Epoch 11/20\n",
      "1313/1313 [==============================] - 761s 580ms/step - loss: 0.0076 - accuracy: 0.9978\n",
      "Epoch 12/20\n",
      "1313/1313 [==============================] - 758s 577ms/step - loss: 0.0059 - accuracy: 0.9984\n",
      "Epoch 13/20\n",
      "1313/1313 [==============================] - 779s 593ms/step - loss: 0.0066 - accuracy: 0.9980\n",
      "Epoch 14/20\n",
      "1313/1313 [==============================] - 781s 595ms/step - loss: 0.0050 - accuracy: 0.9984\n",
      "Epoch 15/20\n",
      "1313/1313 [==============================] - 779s 594ms/step - loss: 0.0037 - accuracy: 0.9989\n",
      "Epoch 16/20\n",
      "1313/1313 [==============================] - 781s 595ms/step - loss: 0.0054 - accuracy: 0.9982\n",
      "Epoch 17/20\n",
      "1313/1313 [==============================] - 783s 596ms/step - loss: 0.0033 - accuracy: 0.9990\n",
      "Epoch 18/20\n",
      "1313/1313 [==============================] - 785s 598ms/step - loss: 0.0037 - accuracy: 0.9986\n",
      "Epoch 19/20\n",
      "1313/1313 [==============================] - 779s 593ms/step - loss: 0.0053 - accuracy: 0.9981\n",
      "Epoch 20/20\n",
      "1313/1313 [==============================] - 778s 593ms/step - loss: 0.0036 - accuracy: 0.9986\n"
     ]
    },
    {
     "data": {
      "text/plain": [
       "<keras.src.callbacks.History at 0x293824490>"
      ]
     },
     "execution_count": 46,
     "metadata": {},
     "output_type": "execute_result"
    }
   ],
   "source": [
    "# model.\n",
    "\n",
    "model4.fit(train_X_np, train_y_np,epochs=20, batch_size=32)\n"
   ]
  },
  {
   "cell_type": "code",
   "execution_count": 101,
   "metadata": {},
   "outputs": [
    {
     "name": "stdout",
     "output_type": "stream",
     "text": [
      "Model: \"sequential_26\"\n",
      "_________________________________________________________________\n",
      " Layer (type)                Output Shape              Param #   \n",
      "=================================================================\n",
      " conv2d_70 (Conv2D)          (None, 26, 26, 32)        320       \n",
      "                                                                 \n",
      " max_pooling2d_23 (MaxPooli  (None, 13, 13, 32)        0         \n",
      " ng2D)                                                           \n",
      "                                                                 \n",
      " flatten_23 (Flatten)        (None, 5408)              0         \n",
      "                                                                 \n",
      " dense_70 (Dense)            (None, 100)               540900    \n",
      "                                                                 \n",
      " dropout_47 (Dropout)        (None, 100)               0         \n",
      "                                                                 \n",
      " dense_71 (Dense)            (None, 1000)              101000    \n",
      "                                                                 \n",
      " dense_72 (Dense)            (None, 1000)              1001000   \n",
      "                                                                 \n",
      " dropout_48 (Dropout)        (None, 1000)              0         \n",
      "                                                                 \n",
      " dense_73 (Dense)            (None, 1000)              1001000   \n",
      "                                                                 \n",
      " dropout_49 (Dropout)        (None, 1000)              0         \n",
      "                                                                 \n",
      " dense_74 (Dense)            (None, 10000)             10010000  \n",
      "                                                                 \n",
      " dropout_50 (Dropout)        (None, 10000)             0         \n",
      "                                                                 \n",
      " dense_75 (Dense)            (None, 10000)             100010000 \n",
      "                                                                 \n",
      " dropout_51 (Dropout)        (None, 10000)             0         \n",
      "                                                                 \n",
      " dense_76 (Dense)            (None, 10000)             100010000 \n",
      "                                                                 \n",
      " dropout_52 (Dropout)        (None, 10000)             0         \n",
      "                                                                 \n",
      " dense_77 (Dense)            (None, 10000)             100010000 \n",
      "                                                                 \n",
      " dropout_53 (Dropout)        (None, 10000)             0         \n",
      "                                                                 \n",
      " dense_78 (Dense)            (None, 100)               1000100   \n",
      "                                                                 \n",
      " dense_79 (Dense)            (None, 10)                1010      \n",
      "                                                                 \n",
      "=================================================================\n",
      "Total params: 313685330 (1.17 GB)\n",
      "Trainable params: 313685330 (1.17 GB)\n",
      "Non-trainable params: 0 (0.00 Byte)\n",
      "_________________________________________________________________\n"
     ]
    }
   ],
   "source": [
    "model4.summary()"
   ]
  },
  {
   "cell_type": "code",
   "execution_count": 55,
   "metadata": {},
   "outputs": [
    {
     "name": "stdout",
     "output_type": "stream",
     "text": [
      "875/875 [==============================] - 79s 91ms/step\n"
     ]
    }
   ],
   "source": [
    "#Make predictions on the test data\n",
    "test_y = model4.predict(\n",
    "    test_x_np,\n",
    "    batch_size=None,\n",
    "    verbose='auto',\n",
    "    steps=None,\n",
    "    callbacks=None,\n",
    "    max_queue_size=10,\n",
    "    workers=1,\n",
    "    use_multiprocessing=False\n",
    ")"
   ]
  },
  {
   "cell_type": "code",
   "execution_count": 99,
   "metadata": {},
   "outputs": [
    {
     "name": "stdout",
     "output_type": "stream",
     "text": [
      "[1 2]\n",
      "[2 0]\n",
      "[3 9]\n",
      "[4 0]\n",
      "[5 3]\n",
      "[6 9]\n",
      "[7 0]\n",
      "[8 3]\n",
      "[9 0]\n",
      "[10  3]\n"
     ]
    }
   ],
   "source": [
    "#Find the index with the largest value\n",
    "#28000 images in test data\n",
    "resultArr = np.ones((28000,2))\n",
    "for i in range(28000):\n",
    "    resultArr[i][0] = i+1\n",
    "    resultArr[i][1] = int(np.argmax(test_y[i]))\n",
    "resultArr = resultArr.astype('int')\n",
    "for i in range(10):\n",
    "    print(resultArr[i])\n"
   ]
  },
  {
   "cell_type": "code",
   "execution_count": 98,
   "metadata": {},
   "outputs": [],
   "source": [
    "df = pd.DataFrame(resultArr)\n",
    "df.to_csv(\"./submission.csv\", header=False, index=False)"
   ]
  }
 ],
 "metadata": {
  "kernelspec": {
   "display_name": "Python 3",
   "language": "python",
   "name": "python3"
  },
  "language_info": {
   "codemirror_mode": {
    "name": "ipython",
    "version": 3
   },
   "file_extension": ".py",
   "mimetype": "text/x-python",
   "name": "python",
   "nbconvert_exporter": "python",
   "pygments_lexer": "ipython3",
   "version": "3.8.9"
  }
 },
 "nbformat": 4,
 "nbformat_minor": 2
}
